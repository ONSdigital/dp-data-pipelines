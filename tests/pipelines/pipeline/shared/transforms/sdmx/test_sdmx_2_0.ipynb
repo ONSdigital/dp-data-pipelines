{
 "cells": [
  {
   "cell_type": "code",
   "execution_count": 1,
   "metadata": {},
   "outputs": [],
   "source": [
    "import pytest\n",
    "import pandas as pd\n",
    "\n",
    "from sdmx_2_0 import xmlToCsvSDMX2_0"
   ]
  },
  {
   "cell_type": "code",
   "execution_count": 4,
   "metadata": {},
   "outputs": [],
   "source": [
    "input_path = 'SUT T1500 - NATP.ESA10.SU_SDMX Output_BlueBook_25_Jan_2024 (SDMX 2.0)edited.xml'\n",
    "output_path = 'tidy.csv'\n",
    "complete_table =  xmlToCsvSDMX2_0(input_path, output_path)\n",
    "\n",
    "df_csv = pd.read_csv('tidy.csv')"
   ]
  },
  {
   "cell_type": "code",
   "execution_count": 13,
   "metadata": {},
   "outputs": [
    {
     "data": {
      "text/plain": [
       "ID                                    object\n",
       "Test                                  object\n",
       "Name xml:lang                         object\n",
       "Name #text                            object\n",
       "Prepared                              object\n",
       "Sender id                             object\n",
       "Sender Name xml:lang                  object\n",
       "Sender Name #text                     object\n",
       "Sender Contact Department xml:lang    object\n",
       "Sender Contact Department #text       object\n",
       "Receiver id                           object\n",
       "KeyFamilyRef                          object\n",
       "KeyFamilyAgency                       object\n",
       "DataSetAgency                         object\n",
       "DataSetID                             object\n",
       "DataSetAction                         object\n",
       "Extracted                             object\n",
       "Source xml:lang                       object\n",
       "Source #text                          object\n",
       "ACTIVITY                              object\n",
       "PRODUCT                               object\n",
       "VALUATION                             object\n",
       "COUNTERPART_AREA                      object\n",
       "CUST_BREAKDOWN                        object\n",
       "STO                                   object\n",
       "PRICES                                object\n",
       "FREQ                                  object\n",
       "REF_AREA                              object\n",
       "REF_SECTOR                            object\n",
       "COUNTERPART_SECTOR                    object\n",
       "ACCOUNTING_ENTRY                      object\n",
       "ACTIVITY_TO                           object\n",
       "PRODUCT_TO                            object\n",
       "UNIT_MEASURE                          object\n",
       "TIME_FORMAT                           object\n",
       "DECIMALS                              object\n",
       "TABLE_IDENTIFIER                      object\n",
       "TITLE                                 object\n",
       "UNIT_MULT                             object\n",
       "COMPILING_ORG                         object\n",
       "TIME_PERIOD                           object\n",
       "OBS_VALUE                             object\n",
       "OBS_STATUS                            object\n",
       "CONF_STATUS                           object\n",
       "dtype: object"
      ]
     },
     "execution_count": 13,
     "metadata": {},
     "output_type": "execute_result"
    }
   ],
   "source": [
    "complete_table.dtypes"
   ]
  },
  {
   "cell_type": "code",
   "execution_count": 7,
   "metadata": {},
   "outputs": [
    {
     "data": {
      "text/plain": [
       "ID                                    object\n",
       "Test                                    bool\n",
       "Name xml:lang                         object\n",
       "Name #text                            object\n",
       "Prepared                              object\n",
       "Sender id                             object\n",
       "Sender Name xml:lang                  object\n",
       "Sender Name #text                     object\n",
       "Sender Contact Department xml:lang    object\n",
       "Sender Contact Department #text       object\n",
       "Receiver id                           object\n",
       "KeyFamilyRef                          object\n",
       "KeyFamilyAgency                       object\n",
       "DataSetAgency                         object\n",
       "DataSetID                             object\n",
       "DataSetAction                         object\n",
       "Extracted                             object\n",
       "Source xml:lang                       object\n",
       "Source #text                          object\n",
       "ACTIVITY                              object\n",
       "PRODUCT                               object\n",
       "VALUATION                             object\n",
       "COUNTERPART_AREA                      object\n",
       "CUST_BREAKDOWN                        object\n",
       "STO                                   object\n",
       "PRICES                                object\n",
       "FREQ                                  object\n",
       "REF_AREA                              object\n",
       "REF_SECTOR                            object\n",
       "COUNTERPART_SECTOR                    object\n",
       "ACCOUNTING_ENTRY                      object\n",
       "ACTIVITY_TO                           object\n",
       "PRODUCT_TO                            object\n",
       "UNIT_MEASURE                          object\n",
       "TIME_FORMAT                           object\n",
       "DECIMALS                               int64\n",
       "TABLE_IDENTIFIER                      object\n",
       "TITLE                                 object\n",
       "UNIT_MULT                              int64\n",
       "COMPILING_ORG                         object\n",
       "TIME_PERIOD                            int64\n",
       "OBS_VALUE                              int64\n",
       "OBS_STATUS                            object\n",
       "CONF_STATUS                           object\n",
       "dtype: object"
      ]
     },
     "execution_count": 7,
     "metadata": {},
     "output_type": "execute_result"
    }
   ],
   "source": [
    "df_csv.dtypes"
   ]
  },
  {
   "cell_type": "code",
   "execution_count": 8,
   "metadata": {},
   "outputs": [],
   "source": [
    "df_csv.replace({'Test': {\n",
    "        False: \"false\"\n",
    "    }}, inplace=True)"
   ]
  },
  {
   "cell_type": "code",
   "execution_count": 9,
   "metadata": {},
   "outputs": [
    {
     "data": {
      "text/plain": [
       "ID                                    object\n",
       "Test                                  object\n",
       "Name xml:lang                         object\n",
       "Name #text                            object\n",
       "Prepared                              object\n",
       "Sender id                             object\n",
       "Sender Name xml:lang                  object\n",
       "Sender Name #text                     object\n",
       "Sender Contact Department xml:lang    object\n",
       "Sender Contact Department #text       object\n",
       "Receiver id                           object\n",
       "KeyFamilyRef                          object\n",
       "KeyFamilyAgency                       object\n",
       "DataSetAgency                         object\n",
       "DataSetID                             object\n",
       "DataSetAction                         object\n",
       "Extracted                             object\n",
       "Source xml:lang                       object\n",
       "Source #text                          object\n",
       "ACTIVITY                              object\n",
       "PRODUCT                               object\n",
       "VALUATION                             object\n",
       "COUNTERPART_AREA                      object\n",
       "CUST_BREAKDOWN                        object\n",
       "STO                                   object\n",
       "PRICES                                object\n",
       "FREQ                                  object\n",
       "REF_AREA                              object\n",
       "REF_SECTOR                            object\n",
       "COUNTERPART_SECTOR                    object\n",
       "ACCOUNTING_ENTRY                      object\n",
       "ACTIVITY_TO                           object\n",
       "PRODUCT_TO                            object\n",
       "UNIT_MEASURE                          object\n",
       "TIME_FORMAT                           object\n",
       "DECIMALS                               int64\n",
       "TABLE_IDENTIFIER                      object\n",
       "TITLE                                 object\n",
       "UNIT_MULT                              int64\n",
       "COMPILING_ORG                         object\n",
       "TIME_PERIOD                            int64\n",
       "OBS_VALUE                              int64\n",
       "OBS_STATUS                            object\n",
       "CONF_STATUS                           object\n",
       "dtype: object"
      ]
     },
     "execution_count": 9,
     "metadata": {},
     "output_type": "execute_result"
    }
   ],
   "source": [
    "df_csv.dtypes"
   ]
  },
  {
   "cell_type": "code",
   "execution_count": 11,
   "metadata": {},
   "outputs": [],
   "source": [
    "assert len(df_csv.columns.values.tolist()) == len(complete_table.columns.values.tolist())"
   ]
  },
  {
   "cell_type": "code",
   "execution_count": null,
   "metadata": {},
   "outputs": [],
   "source": [
    "input_path = 'dpypelines/pipeline/shared/transforms/sdmx/SUT T1500 - NATP.ESA10.SU_SDMX Output_BlueBook_25_Jan_2024 (SDMX 2.0)edited.xml'\n",
    "output_path = 'tests/pipelines/pipeline/shared/transforms/sdmx/tidy.csv'\n",
    "complete_table =  xmlToCsvSDMX2_0(input_path, output_path)\n",
    "\n",
    "df_csv = pd.read_csv('tidy.csv')\n",
    "df_csv.replace({'Test': {\n",
    "    False: \"false\"\n",
    "}}, inplace=True)\n",
    "assert len(df_csv.columns.values.tolist()) == len(complete_table.columns.values.tolist())\n",
    "assert sorted(df_csv.columns.values.tolist()) == sorted(complete_table.columns.values.tolist())\n",
    "assert df_csv.shape[1] == complete_table.shape[1]\n",
    "assert (df_csv.iloc[0:1, :19]).equals(complete_table.iloc[0:1, :19])\n"
   ]
  },
  {
   "cell_type": "code",
   "execution_count": null,
   "metadata": {},
   "outputs": [],
   "source": [
    "\n",
    "\n",
    "\n",
    "df_csv = pd.read_csv(output_path)\n",
    "df_csv.replace({'Test': {\n",
    "    False: \"false\"\n",
    "}}, inplace=True)\n",
    "assert len(df_csv.columns.values.tolist()) == len(complete_table.columns.values.tolist())\n",
    "assert sorted(df_csv.columns.values.tolist()) == sorted(complete_table.columns.values.tolist())\n",
    "assert df_csv.shape[1] == complete_table.shape[1]\n",
    "assert (df_csv.iloc[0:1, :19]).equals(complete_table.iloc[0:1, :19])\n",
    "    "
   ]
  }
 ],
 "metadata": {
  "kernelspec": {
   "display_name": "dpypelines-u_7-RC-q-py3.9",
   "language": "python",
   "name": "python3"
  },
  "language_info": {
   "codemirror_mode": {
    "name": "ipython",
    "version": 3
   },
   "file_extension": ".py",
   "mimetype": "text/x-python",
   "name": "python",
   "nbconvert_exporter": "python",
   "pygments_lexer": "ipython3",
   "version": "3.9.16"
  }
 },
 "nbformat": 4,
 "nbformat_minor": 2
}
